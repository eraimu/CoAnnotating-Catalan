{
 "cells": [
  {
   "cell_type": "code",
   "execution_count": null,
   "id": "26bc190b",
   "metadata": {},
   "outputs": [],
   "source": [
    "import pandas as pd"
   ]
  },
  {
   "cell_type": "code",
   "execution_count": null,
   "id": "4e1ba2ff",
   "metadata": {
    "scrolled": true
   },
   "outputs": [],
   "source": [
    "# open chunk 1 as df\n",
    "df = pd.read_csv(path, encoding=\"utf-8\")"
   ]
  },
  {
   "cell_type": "code",
   "execution_count": null,
   "id": "a1ee5066",
   "metadata": {
    "scrolled": true
   },
   "outputs": [],
   "source": [
    "# list of catalan prompts\n",
    "prompts_cat = [\n",
    "    'Si us plau, etiqueta la posició del text següent envers la independència de Catalunya com a “a favor”, “neutral” o “en contra”. Has de triar exactament una d’aquestes opcions, encara que el text sigui ambigu. A més, indica el grau de confiança de la teva predicció en una escala de 0 a 1. Text: “{text}”. Respon NOMÉS en el següent format:  Etiqueta: [a favor / neutral / en contra]; Confiança: [número entre 0 i 1]',\n",
    "    \n",
    "    'Text: “{text}” Si us plau, etiqueta la posició del text següent envers la independència de Catalunya com a “a favor”, “neutral” o “en contra”. Has de triar exactament una d’aquestes opcions, encara que el text sigui ambigu. A més, indica el grau de confiança de la teva predicció en una escala de 0 a 1. Respon NOMÉS en el següent format:  Etiqueta: [a favor / neutral / en contra]; Confiança: [número entre 0 i 1]',\n",
    "    \n",
    "    'Donat el text següent, classifica la posició del text següent envers la independència de Catalunya com a “a favor”, “neutral” o “en contra”. Has de triar exactament una d’aquestes opcions, encara que el text sigui ambigu. A més, indica el grau de confiança de la teva predicció en una escala de 0 a 1. Text: “{text}” Respon NOMÉS en el següent format:  Etiqueta: [a favor / neutral / en contra]; Confiança: [número entre 0 i 1]',\n",
    "\n",
    "    'Basant-te en el llenguatge utilitzat, determina si el text següent té una posició a favor de la independència de Catalunya. Si us plau, dona la teva resposta com a “cert” o “fals”. Si respons “fals”, indica si el text mostra una posició “neutral” o “en contra” de la independència de Catalunya. A més, indica el grau de confiança de la teva predicció en una escala de 0 a 1. Text: “{text}” Respon NOMÉS en el següent format:  Etiqueta: [cert / fals]; Etiqueta secundària (només si has respost \"fals\"): [neutral / en contra]; Confiança: [número entre 0 i 1]',\n",
    "\n",
    "    'Basant-te en el llenguatge utilitzat, determina si el text següent té una posició neutral envers la independència de Catalunya. Si us plau, dona la teva resposta com a “cert” o “fals”. Si respons “fals”, indica si el text mostra una posició “a favor” o “en contra” de la independència de Catalunya. A més, indica el grau de confiança de la teva predicció en una escala de 0 a 1. Text: “{text}” Respon NOMÉS en el següent format:  Etiqueta: [cert / fals]; Etiqueta secundària (només si has respost \"fals\"): [a favor / en contra]; Confiança: [número entre 0 i 1]',\n",
    "    \n",
    "    'Basant-te en el llenguatge utilitzat, determina si el text següent té una posició en contra de la independència de Catalunya. Si us plau, dona la teva resposta com a “cert” o “fals”. Si respons “fals”, indica si el text mostra una posició “a favor” o “neutral” de la independència de Catalunya. A més, indica el grau de confiança de la teva predicció en una escala de 0 a 1. Text: “{text}” Respon NOMÉS en el següent format:  Etiqueta: [cert / fals]; Etiqueta secundària (només si has respost \"fals\"): [a favor / neutral]; Confiança: [número entre 0 i 1]',\n",
    "    \n",
    "    'Quina posició expressa el text següent envers la independència de Catalunya? \"A favor\", \"neutral\" o \"en contra\"? Has de triar exactament una d’aquestes opcions, encara que el text sigui ambigu. A més, indica el grau de confiança de la teva predicció en una escala de 0 a 1. Text: “{text}” Respon NOMÉS en el següent format:  Etiqueta: [a favor / neutral / en contra]; Confiança: [número entre 0 i 1]',\n",
    "    \n",
    "    'Si us plau, tria la opció que descrigui millor la posició del text següent envers la independència de Catalunya. Opcions: (A) A favor, (B) Neutral, (C) En contra. Has de triar exactament una d’aquestes opcions, encara que el text sigui ambigu. A més, indica el grau de confiança de la teva predicció en una escala de 0 a 1. Text: “{text}”. Respon NOMÉS en el següent format:  Etiqueta: [A / B / C]; Confiança: [número entre 0 i 1]',\n",
    "    \n",
    "    'Crec que el text següent té una posició a favor de la independència de Catalunya. Hi estàs d’acord? Si us plau, dona la teva resposta com a “sí” o “no”. Si respons “no”, indica si el text mostra una posició “neutral” o “en contra” de la independència de Catalunya. A més, indica el grau de confiança de la teva predicció en una escala de 0 a 1. Text: “{text}” Respon NOMÉS en el següent format:  Etiqueta: [sí / no]; Etiqueta secundària (només si has respost \"no\"): [neutral / en contra]; Confiança: [número entre 0 i 1]',\n",
    "    \n",
    "    'Crec que el text següent té una posició neutral envers la independència de Catalunya. Hi estàs d’acord? Si us plau, dona la teva resposta com a “sí” o “no”. Si respons “no”, indica si el text mostra una posició “a favor” o “en contra” de la independència  de Catalunya. A més, indica el grau de confiança de la teva predicció en una escala de 0 a 1. Text: “{text}” Respon NOMÉS en el següent format:  Etiqueta: [sí / no]; Etiqueta secundària (només si has respost \"no\"): [a favor / en contra]; Confiança: [número entre 0 i 1]',\n",
    "    \n",
    "    'Crec que el text següent té una posició en contra de la independència de Catalunya. Hi estàs d’acord? Si us plau, dona la teva resposta com a “sí” o “no”. Si respons “no”, indica si el text mostra una posició “a favor” o “neutral” de la independència de Catalunya. A més, indica el grau de confiança de la teva predicció en una escala de 0 a 1. Text: “{text}” Respon NOMÉS en el següent format:  Etiqueta: [sí / no]; Etiqueta secundària (només si has respost \"no\"): [a favor / neutral]; Confiança: [número entre 0 i 1]']\n",
    "    "
   ]
  },
  {
   "cell_type": "code",
   "execution_count": null,
   "id": "e3809a7d",
   "metadata": {},
   "outputs": [],
   "source": [
    "# list of spanish prompts\n",
    "prompts_es = [\n",
    "    'Por favor, etiqueta la posición del texto siguiente respecto a la independencia de Cataluña como “a favor”, “neutral” o “en contra”. Debes elegir exactamente una de estas opciones, incluso si el texto es ambiguo. Además, indica el grado de confianza de tu predicción en una escala del 0 al 1. Texto: “{text}”. Responde SOLO en el siguiente formato: Etiqueta: [a favor / neutral / en contra]; Confianza: [número entre 0 y 1]',\n",
    "    \n",
    "    'Texto: “{text}” Por favor, etiqueta la posición del texto siguiente respecto a la independencia de Cataluña como “a favor”, “neutral” o “en contra”. Debes elegir exactamente una de estas opciones, incluso si el texto es ambiguo. Además, indica el grado de confianza de tu predicción en una escala del 0 al 1. Responde SOLO en el siguiente formato: Etiqueta: [a favor / neutral / en contra]; Confianza: [número entre 0 y 1]',\n",
    "    \n",
    "    'Dado el texto siguiente, clasifica la posición del texto siguiente respecto a la independencia de Cataluña como “a favor”, “neutral” o “en contra”.  Debes elegir exactamente una de estas opciones, incluso si el texto es ambiguo. Además, indica el grado de confianza de tu predicción en una escala del 0 al 1. Texto: “{text}” Responde SOLO en el siguiente formato: Etiqueta: [a favor / neutral / en contra]; Confianza: [número entre 0 y 1]',\n",
    "\n",
    "    'Basándote en el lenguaje utilizado, determina si el texto siguiente tiene una posición a favor respecto a la independencia de Cataluña. Por favor, da tu respuesta como “verdadero” o “falso”. Si respondes “falso”, indica si el texto muestra una posición “neutral” o “en contra” de la independencia de Cataluña. Además, indica el grado de confianza de tu predicción en una escala del 0 al 1. Texto: “{text}” Responde SOLO en el siguiente formato: Etiqueta: [verdadero / falso]; Etiqueta secundaria (solo si has respondido \"falso\"): [neutral / en contra]; Confianza: [número entre 0 y 1]',\n",
    "    \n",
    "    'Basándote en el lenguaje utilizado, determina si el texto siguiente tiene una posición neutral respecto a la independencia de Cataluña. Por favor, da tu respuesta como “verdadero” o “falso”. Si respondes “falso”, indica si el texto muestra una posición “a favor” o “en contra” de la independencia de Cataluña. Además, indica el grado de confianza de tu predicción en una escala del 0 al 1. Texto: “{text}” Responde SOLO en el siguiente formato: Etiqueta: [verdadero / falso]; Etiqueta secundaria (solo si has respondido \"falso\"): [a favor / en contra]; Confianza: [número entre 0 y 1]',\n",
    "    \n",
    "    'Basándote en el lenguaje utilizado, determina si el texto siguiente tiene una posición en contra respecto a la independencia de Cataluña. Por favor, da tu respuesta como “verdadero” o “falso”. Si respondes “falso”, indica si el texto muestra una posición “a favor” o “neutral” de la independencia de Cataluña. Además, indica el grado de confianza de tu predicción en una escala del 0 al 1. Texto: “{text}” Responde SOLO en el siguiente formato: Etiqueta: [verdadero / falso]; Etiqueta secundaria (solo si has respondido \"falso\"): [a favor / neutral]; Confianza: [número entre 0 y 1]', \n",
    "    \n",
    "    '¿Qué tipo de posición del texto siguiente respecto a la independencia de Cataluña se expresa? ¿”A favor”, “neutral” o “en contra”? Debes elegir exactamente una de estas opciones, incluso si el texto es ambiguo. Además, indica el grado de confianza de tu predicción en una escala del 0 al 1. Texto: “{text}” Responde SOLO en el siguiente formato: Etiqueta: [a favor / neutral / en contra]; Confianza: [número entre 0 y 1]',\n",
    "    \n",
    "    'Por favor, elige una opción que describa mejor la posición del texto siguiente respecto a la independencia de Cataluña. Opciones: (A) A favor, (B) Neutral, (C) En contra. Debes elegir exactamente una de estas opciones, incluso si el texto es ambiguo. Además, indica el grado de confianza de tu predicción en una escala del 0 al 1. Texto: “{text}”. Responde SOLO en el siguiente formato: Etiqueta: [A / B / C]; Confianza: [número entre 0 y 1]',\n",
    "    \n",
    "    'Creo que el texto siguiente tiene una posición a favor de la independencia de Cataluña. ¿Estás de acuerdo? Por favor, da tu respuesta como “sí” o “no”. Si respondes “no”, indica si el texto muestra una posición “neutral” o “en contra” de la independencia. Además, indica el grado de confianza de tu predicción en una escala del 0 al 1. Texto: “{text}” Responde SOLO en el siguiente formato: Etiqueta: [sí / no]; Etiqueta secundaria (solo si has respondido \"no\"): [neutral / en contra]; Confianza: [número entre 0 y 1]',\n",
    "    \n",
    "    'Creo que el texto siguiente tiene una posición neutral de la independencia de Cataluña. ¿Estás de acuerdo? Por favor, da tu respuesta como “sí” o “no”. Si respondes “no”, indica si el texto muestra una posición “a favor” o “en contra” de la independencia. Además, indica el grado de confianza de tu predicción en una escala del 0 al 1. Texto: “{text}” Responde SOLO en el siguiente formato: Etiqueta: [sí / no]; Etiqueta secundaria (solo si has respondido \"no\"): [a favor / en contra]; Confianza: [número entre 0 y 1]',\n",
    "    \n",
    "    'Creo que el texto siguiente tiene una posición en contra de la independencia de Cataluña. ¿Estás de acuerdo? Por favor, da tu respuesta como “sí” o “no”. Si respondes “no”, indica si el texto muestra una posición “a favor” o “neutral” de la independencia. Además, indica el grado de confianza de tu predicción en una escala del 0 al 1. Texto: “{text}” Responde SOLO en el siguiente formato: Etiqueta: [sí / no]; Etiqueta secundaria (solo si has respondido \"no\"): [a favor/ neutral]; Confianza: [número entre 0 y 1]']"
   ]
  },
  {
   "cell_type": "code",
   "execution_count": null,
   "id": "f38b9146",
   "metadata": {},
   "outputs": [],
   "source": [
    "# add prompts as new columns\n",
    "for i, template in enumerate(prompts_es, start=1):\n",
    "    df[f\"prompt{i}\"] = df[\"text\"].apply(lambda t: template.format(text=t))"
   ]
  },
  {
   "cell_type": "code",
   "execution_count": null,
   "id": "24248505",
   "metadata": {},
   "outputs": [],
   "source": [
    "df.to_csv(\"ES_with_prompts_fixed.csv\", index=False, encoding=\"utf-8\")"
   ]
  },
  {
   "cell_type": "markdown",
   "id": "575728dc",
   "metadata": {},
   "source": [
    "## selecting only true/false and confirmation bias columns"
   ]
  },
  {
   "cell_type": "code",
   "execution_count": null,
   "id": "88b9c23e",
   "metadata": {},
   "outputs": [],
   "source": [
    "df = pd.read_csv(path, encoding=\"utf-8\")\n",
    "\n",
    "df = df.drop(columns=[\"prompt1\", \"prompt2\", \"prompt3\", \"prompt7\", \"prompt8\"])\n",
    "\n",
    "df.head()"
   ]
  },
  {
   "cell_type": "code",
   "execution_count": null,
   "id": "0f4737ef",
   "metadata": {},
   "outputs": [],
   "source": [
    "df.to_csv(\"ES_hierarchical_classification_prompts.csv\", index=None)"
   ]
  },
  {
   "cell_type": "markdown",
   "id": "96cb696a",
   "metadata": {},
   "source": [
    "## merge fixed annotations with original"
   ]
  },
  {
   "cell_type": "code",
   "execution_count": null,
   "id": "9c5d49df",
   "metadata": {},
   "outputs": [],
   "source": [
    "# open old annotations\n",
    "old_df = pd.read_csv(path, encoding=\"utf-8\")\n",
    "\n",
    "# open new annotations \n",
    "new_df = pd.read_csv(path, encoding=\"utf-8\")"
   ]
  },
  {
   "cell_type": "code",
   "execution_count": null,
   "id": "16a17161",
   "metadata": {},
   "outputs": [],
   "source": [
    "columns_to_copy = [\"prompt1\",\"prompt2\",\"prompt3\",\"prompt7\",\"prompt8\",\n",
    "                   \"response1\",\"response2\",\"response3\",\"response7\",\"response8\"]\n",
    "\n",
    "for col in columns_to_copy:\n",
    "    new_df[col] = old_df[col]\n",
    "\n",
    "# reorder columns\n",
    "all_columns = ['id', 'text', 'label',\n",
    "               'prompt1','prompt2','prompt3',\n",
    "               'prompt4','prompt5','prompt6',\n",
    "               'prompt7','prompt8','prompt9','prompt10','prompt11',\n",
    "               'response1','response2','response3',\n",
    "               'response4','response5','response6',\n",
    "               'response7','response8','response9','response10','response11']\n",
    "\n",
    "# keep columns that exist\n",
    "all_columns = [col for col in all_columns if col in new_df.columns]\n",
    "\n",
    "new_df = new_df[all_columns]\n",
    "\n",
    "new_df.to_csv(\"new_annotations_complete_ES.csv\", index=False)"
   ]
  }
 ],
 "metadata": {
  "kernelspec": {
   "display_name": "Python 3 (ipykernel)",
   "language": "python",
   "name": "python3"
  },
  "language_info": {
   "codemirror_mode": {
    "name": "ipython",
    "version": 3
   },
   "file_extension": ".py",
   "mimetype": "text/x-python",
   "name": "python",
   "nbconvert_exporter": "python",
   "pygments_lexer": "ipython3",
   "version": "3.11.5"
  }
 },
 "nbformat": 4,
 "nbformat_minor": 5
}
